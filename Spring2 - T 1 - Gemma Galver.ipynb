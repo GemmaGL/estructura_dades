{
 "cells": [
  {
   "cell_type": "markdown",
   "id": "b94a93e1",
   "metadata": {},
   "source": [
    "# Spring 2 TASCA 1"
   ]
  },
  {
   "cell_type": "markdown",
   "id": "a7423f66",
   "metadata": {},
   "source": [
    "### Exercici 1 "
   ]
  },
  {
   "cell_type": "markdown",
   "id": "499d45e9",
   "metadata": {},
   "source": [
    "Crea una llista que agrupi els mesos de l’any en trimestres (1T: gener, febrer i març; 2T: abril, maig, juny...), és a dir, una llista amb 4 llistes dins."
   ]
  },
  {
   "cell_type": "code",
   "execution_count": 1,
   "id": "57ae72ff",
   "metadata": {},
   "outputs": [],
   "source": [
    "mesos_any = {\"1T\" :[\"Gener\", \"Febrer\",\"Març\"], \"2T\" : [\"Abril\", \"Maig\", \"Juny\"], \"3T\": [\"Juliol\", \"Agost\", \"Setembre\"], \"4T\": [\"Octubre\", \"Novembre\",\"Desembre\"]}"
   ]
  },
  {
   "cell_type": "code",
   "execution_count": 2,
   "id": "ce2334e8",
   "metadata": {},
   "outputs": [
    {
     "name": "stdout",
     "output_type": "stream",
     "text": [
      "{'1T': ['Gener', 'Febrer', 'Març'], '2T': ['Abril', 'Maig', 'Juny'], '3T': ['Juliol', 'Agost', 'Setembre'], '4T': ['Octubre', 'Novembre', 'Desembre']}\n"
     ]
    }
   ],
   "source": [
    "print(mesos_any)\n"
   ]
  },
  {
   "cell_type": "markdown",
   "id": "ad7c4fde",
   "metadata": {},
   "source": [
    "### Exercici 2\n",
    "Crea un codi que et permeti accedir a:\n",
    "\n",
    "* El segon mes del primer trimestre."
   ]
  },
  {
   "cell_type": "code",
   "execution_count": 3,
   "id": "108bdd04",
   "metadata": {
    "scrolled": true
   },
   "outputs": [
    {
     "name": "stdout",
     "output_type": "stream",
     "text": [
      "Febrer\n"
     ]
    }
   ],
   "source": [
    "print(list(mesos_any[\"1T\"])[1])\n"
   ]
  },
  {
   "cell_type": "markdown",
   "id": "da75402c",
   "metadata": {},
   "source": [
    "* Els mesos del primer trimestre."
   ]
  },
  {
   "cell_type": "code",
   "execution_count": 4,
   "id": "3e2cbcaa",
   "metadata": {
    "scrolled": true
   },
   "outputs": [
    {
     "name": "stdout",
     "output_type": "stream",
     "text": [
      "['Gener', 'Febrer', 'Març']\n"
     ]
    }
   ],
   "source": [
    "print(mesos_any[\"1T\"])"
   ]
  },
  {
   "cell_type": "markdown",
   "id": "96d1401c",
   "metadata": {},
   "source": [
    "* Setembre i octubre."
   ]
  },
  {
   "cell_type": "code",
   "execution_count": 5,
   "id": "03e7ae0e",
   "metadata": {},
   "outputs": [
    {
     "name": "stdout",
     "output_type": "stream",
     "text": [
      "Setembre,Octubre\n"
     ]
    }
   ],
   "source": [
    "print(str(mesos_any[\"3T\"][2]) + \",\" +  str(mesos_any[\"4T\"][0]))"
   ]
  },
  {
   "cell_type": "markdown",
   "id": "cb4b353f",
   "metadata": {},
   "source": [
    "### Exercici 3 \n",
    "\n",
    "Crea una llista amb nombres desordenats i respon a les següents preguntes:\n",
    "\n",
    "* Quants números hi ha?"
   ]
  },
  {
   "cell_type": "code",
   "execution_count": 6,
   "id": "727a53f3",
   "metadata": {},
   "outputs": [
    {
     "name": "stdout",
     "output_type": "stream",
     "text": [
      "[5, 46, 2, 8, 67, 4, 3, 89, 52, 156, 7, 543, 654, 75, 24, 85, 23, 97, 3, 4, 63, 6, 2, 732, 65, 345]\n"
     ]
    },
    {
     "data": {
      "text/plain": [
       "26"
      ]
     },
     "execution_count": 6,
     "metadata": {},
     "output_type": "execute_result"
    }
   ],
   "source": [
    "llista_num = [5,46,2,8,67,4,3,89,52,156,7,543,654,75,24,85,23,97,3,4,63,6,2,732,65,345]\n",
    "print (llista_num)\n",
    "\n",
    "len(llista_num)\n"
   ]
  },
  {
   "cell_type": "markdown",
   "id": "eaac7019",
   "metadata": {},
   "source": [
    "* Quantes vegades apareix el número 3."
   ]
  },
  {
   "cell_type": "code",
   "execution_count": 7,
   "id": "34b737aa",
   "metadata": {},
   "outputs": [
    {
     "name": "stdout",
     "output_type": "stream",
     "text": [
      "2\n"
     ]
    }
   ],
   "source": [
    "llista_num = [5,46,2,8,67,4,3,89,52,156,7,543,654,75,24,85,23,97,3,4,63,6,2,732,65,345]\n",
    "num = 3\n",
    "\n",
    "count = llista_num.count(num)\n",
    "print(count)"
   ]
  },
  {
   "cell_type": "code",
   "execution_count": 8,
   "id": "4d8131b2",
   "metadata": {},
   "outputs": [
    {
     "name": "stdout",
     "output_type": "stream",
     "text": [
      "2\n"
     ]
    }
   ],
   "source": [
    "llista_num = [5,46,2,8,67,4,3,89,52,156,7,543,654,75,24,85,23,97,3,4,63,6,2,732,65,345]\n",
    "def contar_num(n):\n",
    "    contar = 0\n",
    "    for i in llista_num:\n",
    "        if i == n:\n",
    "            contar +=1\n",
    "    return contar\n",
    "\n",
    "print(contar_num(3))"
   ]
  },
  {
   "cell_type": "markdown",
   "id": "ccfe4ecf",
   "metadata": {},
   "source": [
    "* Quantes vegades apareixen els nombres 3 i 4?"
   ]
  },
  {
   "cell_type": "code",
   "execution_count": 9,
   "id": "24dce476",
   "metadata": {},
   "outputs": [
    {
     "name": "stdout",
     "output_type": "stream",
     "text": [
      "4\n"
     ]
    }
   ],
   "source": [
    "llista_num = [5,46,2,8,67,4,3,89,52,156,7,543,654,75,24,85,23,97,3,4,63,6,2,732,65,345]\n",
    "num = 3\n",
    "num2= 4\n",
    "\n",
    "count = llista_num.count(num)\n",
    "count2 = llista_num.count(num2)\n",
    "totalcount= count + count2\n",
    "print(totalcount)"
   ]
  },
  {
   "cell_type": "code",
   "execution_count": 10,
   "id": "74806f24",
   "metadata": {},
   "outputs": [
    {
     "name": "stdout",
     "output_type": "stream",
     "text": [
      "4\n"
     ]
    }
   ],
   "source": [
    "llista_num = [5,46,2,8,67,4,3,89,52,156,7,543,654,75,24,85,23,97,3,4,63,6,2,732,65,345]\n",
    "def contar_nums(n, g):\n",
    "    contar = 0\n",
    "    for i in llista_num:\n",
    "        if i == n or i == g:\n",
    "            contar +=1\n",
    "    return contar\n",
    "\n",
    "print(contar_nums(3,4))"
   ]
  },
  {
   "cell_type": "markdown",
   "id": "8bb9fa1e",
   "metadata": {},
   "source": [
    "* Quin és el número més gran?"
   ]
  },
  {
   "cell_type": "code",
   "execution_count": 11,
   "id": "6c9707ef",
   "metadata": {},
   "outputs": [
    {
     "data": {
      "text/plain": [
       "732"
      ]
     },
     "execution_count": 11,
     "metadata": {},
     "output_type": "execute_result"
    }
   ],
   "source": [
    "max(llista_num)"
   ]
  },
  {
   "cell_type": "markdown",
   "id": "e80ac3b8",
   "metadata": {},
   "source": [
    "* Quins són els 3 números més petits?"
   ]
  },
  {
   "cell_type": "code",
   "execution_count": 12,
   "id": "7a8f6085",
   "metadata": {},
   "outputs": [
    {
     "name": "stdout",
     "output_type": "stream",
     "text": [
      "[2, 2, 3, 3, 4, 4, 5, 6, 7, 8, 23, 24, 46, 52, 63, 65, 67, 75, 85, 89, 97, 156, 345, 543, 654, 732]\n"
     ]
    }
   ],
   "source": [
    "llista_ordenada = sorted(llista_num)\n",
    "print(llista_ordenada)"
   ]
  },
  {
   "cell_type": "code",
   "execution_count": 13,
   "id": "b75c6dda",
   "metadata": {},
   "outputs": [
    {
     "name": "stdout",
     "output_type": "stream",
     "text": [
      "[2, 2, 3]\n"
     ]
    }
   ],
   "source": [
    "print(llista_ordenada[:3])"
   ]
  },
  {
   "cell_type": "markdown",
   "id": "7eb5fbcd",
   "metadata": {},
   "source": [
    "* Quin és el rang d’aquesta llista?"
   ]
  },
  {
   "cell_type": "code",
   "execution_count": 14,
   "id": "32f3ca17",
   "metadata": {},
   "outputs": [
    {
     "name": "stdout",
     "output_type": "stream",
     "text": [
      "730\n"
     ]
    }
   ],
   "source": [
    "rang=(llista_ordenada[-1]) -(llista_ordenada[0])\n",
    "print(rang)"
   ]
  },
  {
   "cell_type": "markdown",
   "id": "07f4291e",
   "metadata": {},
   "source": [
    "### Exercici 4\n",
    "\n",
    "Crea un diccionari de la següent forma i respon a les preguntes:"
   ]
  },
  {
   "cell_type": "code",
   "execution_count": 15,
   "id": "80c51878",
   "metadata": {},
   "outputs": [
    {
     "name": "stdout",
     "output_type": "stream",
     "text": [
      "{'Pomes': {'Qty': 5, '€': 0.42}, 'Peres': {'Qty': 3, '€': 0.66}}\n"
     ]
    }
   ],
   "source": [
    "compra ={ \"Pomes\" : {\"Qty\": 5, \"€\": 0.42}, \"Peres\" : {\"Qty\": 3, \"€\": 0.66} }\n",
    "print(compra)"
   ]
  },
  {
   "cell_type": "markdown",
   "id": "2d813c2c",
   "metadata": {},
   "source": [
    "* Afegeix alguna fruita més"
   ]
  },
  {
   "cell_type": "code",
   "execution_count": 16,
   "id": "13aaa7e6",
   "metadata": {},
   "outputs": [],
   "source": [
    "compra[\"Maduixes\"] = {\"Qty\": 8, \"€\": 0.56};"
   ]
  },
  {
   "cell_type": "code",
   "execution_count": 17,
   "id": "e2dacb3a",
   "metadata": {},
   "outputs": [
    {
     "data": {
      "text/plain": [
       "{'Pomes': {'Qty': 5, '€': 0.42},\n",
       " 'Peres': {'Qty': 3, '€': 0.66},\n",
       " 'Maduixes': {'Qty': 8, '€': 0.56}}"
      ]
     },
     "execution_count": 17,
     "metadata": {},
     "output_type": "execute_result"
    }
   ],
   "source": [
    "compra"
   ]
  },
  {
   "cell_type": "markdown",
   "id": "c284ccb6",
   "metadata": {},
   "source": [
    "* Quant han costat les peres en total?"
   ]
  },
  {
   "cell_type": "code",
   "execution_count": 18,
   "id": "e7a6faac",
   "metadata": {},
   "outputs": [
    {
     "name": "stdout",
     "output_type": "stream",
     "text": [
      "1.98\n"
     ]
    }
   ],
   "source": [
    "total_peres= compra [\"Peres\"][\"Qty\"] * compra[\"Peres\"][\"€\"]\n",
    "print (total_peres)"
   ]
  },
  {
   "cell_type": "markdown",
   "id": "f172a20a",
   "metadata": {},
   "source": [
    "* Quantes fruites hem comprat en total?"
   ]
  },
  {
   "cell_type": "code",
   "execution_count": 19,
   "id": "06484c69",
   "metadata": {},
   "outputs": [
    {
     "name": "stdout",
     "output_type": "stream",
     "text": [
      "16\n"
     ]
    }
   ],
   "source": [
    "total_fruites= 0\n",
    "for item in compra:\n",
    "    total_fruites += compra[item][\"Qty\"]\n",
    "print(total_fruites)"
   ]
  },
  {
   "cell_type": "markdown",
   "id": "a24e015e",
   "metadata": {},
   "source": [
    "* Quina és la fruita més cara?"
   ]
  },
  {
   "cell_type": "code",
   "execution_count": 20,
   "id": "8eb7a920",
   "metadata": {},
   "outputs": [
    {
     "name": "stdout",
     "output_type": "stream",
     "text": [
      "Peres\n"
     ]
    }
   ],
   "source": [
    "fruita_cara=0\n",
    "for fruita,preu in compra.items():\n",
    "    if preu[\"€\"] > fruita_cara:\n",
    "        fruita_cara= preu[\"€\"]\n",
    "        fruita_cara_nom = fruita\n",
    "print(fruita_cara_nom)"
   ]
  },
  {
   "cell_type": "code",
   "execution_count": 21,
   "id": "17166031",
   "metadata": {},
   "outputs": [
    {
     "name": "stdout",
     "output_type": "stream",
     "text": [
      "Peres\n"
     ]
    }
   ],
   "source": [
    "preu_max = max(compra, key=lambda x: compra[x][\"€\"])\n",
    "print(preu_max)"
   ]
  },
  {
   "cell_type": "code",
   "execution_count": null,
   "id": "79b5b8fc",
   "metadata": {},
   "outputs": [],
   "source": []
  }
 ],
 "metadata": {
  "kernelspec": {
   "display_name": "Python 3 (ipykernel)",
   "language": "python",
   "name": "python3"
  },
  "language_info": {
   "codemirror_mode": {
    "name": "ipython",
    "version": 3
   },
   "file_extension": ".py",
   "mimetype": "text/x-python",
   "name": "python",
   "nbconvert_exporter": "python",
   "pygments_lexer": "ipython3",
   "version": "3.9.13"
  }
 },
 "nbformat": 4,
 "nbformat_minor": 5
}
